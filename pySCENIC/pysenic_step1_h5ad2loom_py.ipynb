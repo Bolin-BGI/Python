{
 "cells": [
  {
   "cell_type": "markdown",
   "id": "9361ec5e-242e-4568-ac24-5fe573ffe952",
   "metadata": {
    "execution": {
     "iopub.execute_input": "2025-08-21T06:44:01.466710Z",
     "iopub.status.busy": "2025-08-21T06:44:01.466144Z",
     "iopub.status.idle": "2025-08-21T06:44:01.471905Z",
     "shell.execute_reply": "2025-08-21T06:44:01.470969Z",
     "shell.execute_reply.started": "2025-08-21T06:44:01.466636Z"
    }
   },
   "source": [
    "## pysenic的输入本质是counts矩阵。我们可以改变细胞数，也可以改变基因数（1w高变基因）。\n",
    "## 如果输入的 counts 太大，计算时间太长，用5w细胞，1w基因是合适的。"
   ]
  },
  {
   "cell_type": "code",
   "execution_count": 1,
   "id": "d003417a-2602-4db5-a7b1-9de18ae641e7",
   "metadata": {
    "execution": {
     "iopub.execute_input": "2025-08-19T08:05:33.819069Z",
     "iopub.status.busy": "2025-08-19T08:05:33.816371Z",
     "iopub.status.idle": "2025-08-19T08:05:47.272543Z",
     "shell.execute_reply": "2025-08-19T08:05:47.262895Z",
     "shell.execute_reply.started": "2025-08-19T08:05:33.818883Z"
    },
    "tags": []
   },
   "outputs": [
    {
     "name": "stderr",
     "output_type": "stream",
     "text": [
      "Matplotlib created a temporary config/cache directory at /tmp/matplotlib-j_lqsplr because the default path (/home/stereonote/.config/matplotlib) is not a writable directory; it is highly recommended to set the MPLCONFIGDIR environment variable to a writable directory, in particular to speed up the import of Matplotlib and to better support multiprocessing.\n"
     ]
    }
   ],
   "source": [
    "import os\n",
    "import sys\n",
    "import anndata as ad\n",
    "import pandas as pd\n",
    "import numpy as np\n",
    "import scanpy as sc\n",
    "import argparse\n",
    "import loompy as lp;"
   ]
  },
  {
   "cell_type": "code",
   "execution_count": 2,
   "id": "b1a2d6f8-56e2-4ed9-abb6-4b78f44a8e80",
   "metadata": {
    "execution": {
     "iopub.execute_input": "2025-08-19T08:05:47.298787Z",
     "iopub.status.busy": "2025-08-19T08:05:47.297985Z",
     "iopub.status.idle": "2025-08-19T08:06:12.300598Z",
     "shell.execute_reply": "2025-08-19T08:06:12.298775Z",
     "shell.execute_reply.started": "2025-08-19T08:05:47.298726Z"
    },
    "tags": []
   },
   "outputs": [
    {
     "data": {
      "text/plain": [
       "AnnData object with n_obs × n_vars = 240713 × 46068\n",
       "    obs: 'orig.ident', 'nCount_RNA', 'nFeature_RNA', 'sample', 'celltype_0818', 'Time_category'\n",
       "    var: 'Gene'"
      ]
     },
     "execution_count": 2,
     "metadata": {},
     "output_type": "execute_result"
    }
   ],
   "source": [
    "adata = ad.read('/data/work/02.result/others/ST_NC/02.result/05.scenic/anno_0818.h5ad')\n",
    "adata"
   ]
  },
  {
   "cell_type": "code",
   "execution_count": 3,
   "id": "241a2a06-97fb-47d5-ae7e-e4f0dd64ed55",
   "metadata": {
    "execution": {
     "iopub.execute_input": "2025-08-19T08:06:12.306468Z",
     "iopub.status.busy": "2025-08-19T08:06:12.305767Z",
     "iopub.status.idle": "2025-08-19T08:06:12.324247Z",
     "shell.execute_reply": "2025-08-19T08:06:12.322758Z",
     "shell.execute_reply.started": "2025-08-19T08:06:12.306411Z"
    }
   },
   "outputs": [],
   "source": [
    "# 2) 准备原始计数层：优先用已有 counts，其次用 raw.X，再不行才用 X\n",
    "if 'counts' in adata.layers:\n",
    "    adata.layers['counts'] = adata.layers['counts']\n",
    "elif adata.raw is not None and adata.raw.X is not None:\n",
    "    adata.layers['counts'] = adata.raw.X\n",
    "else:\n",
    "    adata.layers['counts'] = adata.X  # 警告：若非整数计数，仅作为折中用；PySCENIC严格应使用原始计数\n"
   ]
  },
  {
   "cell_type": "code",
   "execution_count": 5,
   "id": "8a923e04-16ad-41c3-9a0a-b6fe7442693e",
   "metadata": {
    "execution": {
     "iopub.execute_input": "2025-08-19T08:06:51.833778Z",
     "iopub.status.busy": "2025-08-19T08:06:51.832948Z",
     "iopub.status.idle": "2025-08-19T08:07:46.574766Z",
     "shell.execute_reply": "2025-08-19T08:07:46.558809Z",
     "shell.execute_reply.started": "2025-08-19T08:06:51.833718Z"
    },
    "tags": []
   },
   "outputs": [],
   "source": [
    "# 3) 去掉全零基因（显著降维提速）\n",
    "#   注意：filter_genes 会在 adata.var 里做子集，counts层会同步切\n",
    "sc.pp.filter_genes(adata, min_counts=1)"
   ]
  },
  {
   "cell_type": "code",
   "execution_count": null,
   "id": "0fe41188-ff29-4096-a171-05fb0a67c515",
   "metadata": {},
   "outputs": [],
   "source": []
  },
  {
   "cell_type": "code",
   "execution_count": 8,
   "id": "ceca106c-010e-42a4-ab8f-ba04e83591d3",
   "metadata": {
    "execution": {
     "iopub.execute_input": "2025-08-19T08:13:30.984420Z",
     "iopub.status.busy": "2025-08-19T08:13:30.977758Z",
     "iopub.status.idle": "2025-08-19T08:13:31.000382Z",
     "shell.execute_reply": "2025-08-19T08:13:30.998740Z",
     "shell.execute_reply.started": "2025-08-19T08:13:30.978545Z"
    },
    "tags": []
   },
   "outputs": [
    {
     "name": "stdout",
     "output_type": "stream",
     "text": [
      "HVG 选出 10000 个基因（目标 10000）。\n"
     ]
    }
   ],
   "source": [
    "# 4) 计算 HVG（按 sample 分批可减批次效应；没有该列会自动忽略）\n",
    "\n",
    "# !pip install --user scikit-misc\n",
    "\n",
    "batch_key = 'sample' if 'sample' in adata.obs.columns else None\n",
    "sc.pp.highly_variable_genes(\n",
    "    adata,\n",
    "    layer='counts',          # 指定用原始计数层\n",
    "    flavor='seurat_v3',      # 避开 seurat 老算法的分箱/溢出问题\n",
    "    n_top_genes = 10_000,\n",
    "    batch_key=batch_key,\n",
    "    check_values=False       # 跳过可能触发溢出的检查\n",
    ")\n",
    "\n",
    "hvg_mask = adata.var['highly_variable'].values\n",
    "hvg_n = int(hvg_mask.sum())\n",
    "print(f'HVG 选出 {hvg_n} 个基因（目标 {N_HVG}）。')"
   ]
  },
  {
   "cell_type": "code",
   "execution_count": null,
   "id": "aa88799f-812d-40b4-ad5c-085c07f8258e",
   "metadata": {},
   "outputs": [],
   "source": []
  },
  {
   "cell_type": "code",
   "execution_count": 10,
   "id": "8c5dc6e0-e85b-429d-97c3-eb418dcd8c40",
   "metadata": {
    "execution": {
     "iopub.execute_input": "2025-08-19T08:14:24.833738Z",
     "iopub.status.busy": "2025-08-19T08:14:24.833247Z",
     "iopub.status.idle": "2025-08-19T08:14:41.368808Z",
     "shell.execute_reply": "2025-08-19T08:14:41.366763Z",
     "shell.execute_reply.started": "2025-08-19T08:14:24.833701Z"
    }
   },
   "outputs": [
    {
     "data": {
      "text/plain": [
       "AnnData object with n_obs × n_vars = 240713 × 10000\n",
       "    obs: 'orig.ident', 'nCount_RNA', 'nFeature_RNA', 'sample', 'celltype_0818', 'Time_category'\n",
       "    var: 'Gene', 'n_counts', 'highly_variable', 'highly_variable_rank', 'means', 'variances', 'variances_norm', 'highly_variable_nbatches'\n",
       "    uns: 'hvg'\n",
       "    layers: 'counts'"
      ]
     },
     "execution_count": 10,
     "metadata": {},
     "output_type": "execute_result"
    }
   ],
   "source": [
    "# 5) 仅选择 HVG 基因；细胞不变\n",
    "adata_hvg = adata[:, hvg_mask].copy()\n",
    "# 6) 确保写入 loom 的是“计数矩阵”\n",
    "adata_hvg.X = adata_hvg.layers['counts']  # 让 X 指向原始计数（稀疏也可）\n",
    "adata_hvg"
   ]
  },
  {
   "cell_type": "code",
   "execution_count": 11,
   "id": "2483123a-7927-48d9-a2dd-01243b78c8b4",
   "metadata": {
    "execution": {
     "iopub.execute_input": "2025-08-19T08:20:25.121211Z",
     "iopub.status.busy": "2025-08-19T08:20:25.120296Z",
     "iopub.status.idle": "2025-08-19T08:20:32.554101Z",
     "shell.execute_reply": "2025-08-19T08:20:32.553177Z",
     "shell.execute_reply.started": "2025-08-19T08:20:25.121153Z"
    }
   },
   "outputs": [
    {
     "name": "stdout",
     "output_type": "stream",
     "text": [
      "抽样后：50000 cells × 10000 genes\n"
     ]
    },
    {
     "data": {
      "text/plain": [
       "AnnData object with n_obs × n_vars = 50000 × 10000\n",
       "    obs: 'orig.ident', 'nCount_RNA', 'nFeature_RNA', 'sample', 'celltype_0818', 'Time_category'\n",
       "    var: 'Gene', 'n_counts', 'highly_variable', 'highly_variable_rank', 'means', 'variances', 'variances_norm', 'highly_variable_nbatches'\n",
       "    uns: 'hvg'\n",
       "    layers: 'counts'"
      ]
     },
     "execution_count": 11,
     "metadata": {},
     "output_type": "execute_result"
    }
   ],
   "source": [
    "# 7) 随机抽 50,000 细胞\n",
    "N_CELLS = 50_000\n",
    "n_total = adata_hvg.n_obs\n",
    "np.random.seed(42)  # 固定随机种子，保证可重复\n",
    "if n_total > N_CELLS:\n",
    "    keep_idx = np.random.choice(n_total, N_CELLS, replace=False)\n",
    "    adata_sub = adata_hvg[keep_idx, :].copy()\n",
    "    \n",
    "print(f\"抽样后：{adata_sub.n_obs} cells × {adata_sub.n_vars} genes\")\n",
    "adata_sub\n"
   ]
  },
  {
   "cell_type": "code",
   "execution_count": 13,
   "id": "53c1daf3-9ba0-4986-9079-896ee75b2da1",
   "metadata": {
    "execution": {
     "iopub.execute_input": "2025-08-19T08:21:50.504555Z",
     "iopub.status.busy": "2025-08-19T08:21:50.503932Z",
     "iopub.status.idle": "2025-08-19T08:23:27.448875Z",
     "shell.execute_reply": "2025-08-19T08:23:27.446980Z",
     "shell.execute_reply.started": "2025-08-19T08:21:50.504505Z"
    },
    "tags": []
   },
   "outputs": [
    {
     "name": "stdout",
     "output_type": "stream",
     "text": [
      "已写出 loom：/data/work/02.result/others/ST_NC/02.result/05.scenic/anno_0818_50kHVG.loom\n"
     ]
    }
   ],
   "source": [
    "out_loom = '/data/work/02.result/others/ST_NC/02.result/05.scenic/anno_0818_5w_1wHVG.loom'\n",
    "\n",
    "# 8) 为 loom 补充常用属性（Gene/CellID），减少无关负担\n",
    "adata_sub.var['Gene'] = adata_sub.var_names\n",
    "adata_sub.obs['CellID'] = adata_sub.obs_names\n",
    "\n",
    "# 可选：只保留少量必要的 obs/var 列，减小文件尺寸\n",
    "keep_obs = [c for c in ['CellID','orig.ident','sample','celltype_0818','Time_category'] if c in adata_sub.obs.columns]\n",
    "keep_var = [c for c in ['Gene'] if c in adata_sub.var.columns]\n",
    "adata_sub.obs = adata_sub.obs[keep_obs]\n",
    "adata_sub.var = adata_sub.var[keep_var]\n",
    "\n",
    "# 8) 写 loom（AnnData 自带写法，能正确处理稀疏，且省内存）\n",
    "adata_sub.write_loom(out_loom, write_obsm_varm=False)\n",
    "print(f'已写出 loom：{out_loom}')"
   ]
  },
  {
   "cell_type": "code",
   "execution_count": null,
   "id": "ef55e95f-f3f6-4b62-9e12-fcc7c36003d3",
   "metadata": {},
   "outputs": [],
   "source": []
  },
  {
   "cell_type": "code",
   "execution_count": null,
   "id": "08efe7e2-4912-491a-8648-8e60dba43778",
   "metadata": {},
   "outputs": [],
   "source": []
  },
  {
   "cell_type": "code",
   "execution_count": null,
   "id": "54dc3417-65dc-4806-9b14-25382b71ea25",
   "metadata": {},
   "outputs": [],
   "source": []
  },
  {
   "cell_type": "code",
   "execution_count": null,
   "id": "dd0a3c70-7902-4ea2-adf0-ae8011cec25c",
   "metadata": {},
   "outputs": [],
   "source": [
    "import numpy as np\n",
    "import anndata as ad\n",
    "import scanpy as sc\n",
    "\n",
    "# 输入/输出文件路径\n",
    "in_h5ad = '/data/work/02.result/others/ST_NC/02.result/05.scenic/anno_0818.h5ad'\n",
    "out_loom = '/data/work/02.result/others/ST_NC/02.result/05.scenic/anno_0818_50kHVG.loom'\n",
    "\n",
    "N_HVG = 10_000\n",
    "N_CELLS = 50_000\n",
    "\n",
    "# 1) 读取数据\n",
    "adata = ad.read(in_h5ad)\n",
    "print(f\"原始数据: {adata.n_obs} cells × {adata.n_vars} genes\")\n",
    "\n",
    "# 2) 准备 counts 层（PySCENIC 需要原始计数）\n",
    "if 'counts' in adata.layers:\n",
    "    adata.layers['counts'] = adata.layers['counts']\n",
    "elif adata.raw is not None and adata.raw.X is not None:\n",
    "    adata.layers['counts'] = adata.raw.X\n",
    "else:\n",
    "    adata.layers['counts'] = adata.X  # 如果不是整数计数，只能先用 X 代替\n",
    "\n",
    "# 3) 去掉全零基因\n",
    "sc.pp.filter_genes(adata, min_counts=1)\n",
    "print(f\"去零基因后: {adata.n_obs} cells × {adata.n_vars} genes\")\n",
    "\n",
    "# 4) 计算 HVG\n",
    "batch_key = 'sample' if 'sample' in adata.obs.columns else None\n",
    "sc.pp.highly_variable_genes(\n",
    "    adata,\n",
    "    layer='counts',\n",
    "    flavor='seurat_v3',\n",
    "    n_top_genes=N_HVG,\n",
    "    batch_key=batch_key,\n",
    "    check_values=False\n",
    ")\n",
    "\n",
    "hvg_mask = adata.var['highly_variable'].values\n",
    "print(f\"HVG 基因数: {hvg_mask.sum()}\")\n",
    "\n",
    "# 5) 只保留 HVG 基因\n",
    "adata = adata[:, hvg_mask].copy()\n",
    "adata.X = adata.layers['counts']   # 确保 loom 写 counts 矩阵\n",
    "print(f\"保留 HVG 后: {adata.n_obs} cells × {adata.n_vars} genes\")\n",
    "\n",
    "# 6) 随机抽样 50k 细胞\n",
    "np.random.seed(42)\n",
    "if adata.n_obs > N_CELLS:\n",
    "    keep_idx = np.random.choice(adata.n_obs, N_CELLS, replace=False)\n",
    "    adata = adata[keep_idx, :].copy()\n",
    "print(f\"抽样后: {adata.n_obs} cells × {adata.n_vars} genes\")\n",
    "\n",
    "# 7) 精简 obs/var，保留必要信息\n",
    "adata.var['Gene'] = adata.var_names\n",
    "adata.obs['CellID'] = adata.obs_names\n",
    "\n",
    "keep_obs = [c for c in ['CellID','orig.ident','sample','celltype_0818','Time_category'] if c in adata.obs.columns]\n",
    "adata.obs = adata.obs[keep_obs]\n",
    "adata.var = adata.var[['Gene']]\n",
    "\n",
    "# 8) 写 loom 文件\n",
    "adata.write_loom(out_loom, write_obsm_varm=False)\n",
    "print(f\"已写出 loom 文件: {out_loom}\")\n"
   ]
  },
  {
   "cell_type": "code",
   "execution_count": null,
   "id": "04580618-04e3-4834-be67-9c28c5b6fe73",
   "metadata": {},
   "outputs": [],
   "source": []
  },
  {
   "cell_type": "code",
   "execution_count": null,
   "id": "903aa457-fc20-42f1-a4fd-19a83bc7321f",
   "metadata": {},
   "outputs": [],
   "source": []
  },
  {
   "cell_type": "code",
   "execution_count": null,
   "id": "ab4bf066-84d3-423b-aa79-a090bed61ab7",
   "metadata": {},
   "outputs": [],
   "source": []
  },
  {
   "cell_type": "code",
   "execution_count": null,
   "id": "e78dce14-e3af-4817-8e6e-106c0a55ed2a",
   "metadata": {},
   "outputs": [],
   "source": []
  },
  {
   "cell_type": "code",
   "execution_count": null,
   "id": "90e12049-bebd-4585-8227-2f05a870b3fb",
   "metadata": {},
   "outputs": [],
   "source": []
  }
 ],
 "metadata": {
  "kernelspec": {
   "display_name": "Python 3 (ipykernel)",
   "language": "python",
   "name": "python3"
  },
  "language_info": {
   "codemirror_mode": {
    "name": "ipython",
    "version": 3
   },
   "file_extension": ".py",
   "mimetype": "text/x-python",
   "name": "python",
   "nbconvert_exporter": "python",
   "pygments_lexer": "ipython3",
   "version": "3.8.14"
  }
 },
 "nbformat": 4,
 "nbformat_minor": 5
}
